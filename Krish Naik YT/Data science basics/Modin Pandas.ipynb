{
 "cells": [
  {
   "cell_type": "markdown",
   "metadata": {},
   "source": [
    "### How to Speed up Pandas by 4x "
   ]
  },
  {
   "cell_type": "code",
   "execution_count": 1,
   "metadata": {},
   "outputs": [],
   "source": [
    "import pandas as pd\n",
    "import time\n"
   ]
  },
  {
   "cell_type": "code",
   "execution_count": null,
   "metadata": {},
   "outputs": [],
   "source": [
    "!pip install modin[ray]\n"
   ]
  },
  {
   "cell_type": "code",
   "execution_count": 2,
   "metadata": {},
   "outputs": [
    {
     "name": "stdout",
     "output_type": "stream",
     "text": [
      "Pandas Loading Time = 0.004344940185546875\n"
     ]
    }
   ],
   "source": [
    "### Read in the data with Pandas\n",
    "import pandas as pd\n",
    "\n",
    "# import ray \n",
    "# ray.init()\n",
    "\n",
    "s = time.time()\n",
    "df = pd.read_csv(\"./data/wine.csv\")\n",
    "e = time.time()\n",
    "print(\"Pandas Loading Time = {}\".format(e-s))\n"
   ]
  },
  {
   "cell_type": "code",
   "execution_count": 3,
   "metadata": {},
   "outputs": [
    {
     "name": "stderr",
     "output_type": "stream",
     "text": [
      "UserWarning: Ray execution environment not yet initialized. Initializing...\n",
      "To remove this warning, run the following python code before doing dataframe operations:\n",
      "\n",
      "    import ray\n",
      "    ray.init()\n",
      "\n"
     ]
    },
    {
     "name": "stdout",
     "output_type": "stream",
     "text": [
      "Modin Loading Time = 16.806920289993286\n"
     ]
    }
   ],
   "source": [
    "\n",
    "### Read in the data with Modin\n",
    "import modin.pandas as pd\n",
    "\n",
    "s = time.time()\n",
    "df = pd.read_csv(\"./data/wine.csv\")\n",
    "e = time.time()\n",
    "print(\"Modin Loading Time = {}\".format(e-s))"
   ]
  },
  {
   "cell_type": "code",
   "execution_count": null,
   "metadata": {},
   "outputs": [],
   "source": [
    "import modin.pandas as pd"
   ]
  },
  {
   "cell_type": "code",
   "execution_count": null,
   "metadata": {},
   "outputs": [],
   "source": [
    "import modin.pandas as pd\n",
    "import numpy as np\n",
    "\n",
    "frame_data = np.random.randint(0, 100, size=(2**10, 2**8))\n",
    "df = pd.DataFrame(frame_data)"
   ]
  },
  {
   "cell_type": "code",
   "execution_count": null,
   "metadata": {},
   "outputs": [],
   "source": [
    "df.shape"
   ]
  },
  {
   "cell_type": "code",
   "execution_count": null,
   "metadata": {},
   "outputs": [],
   "source": [
    "df.to_csv('test.csv')"
   ]
  },
  {
   "cell_type": "code",
   "execution_count": null,
   "metadata": {},
   "outputs": [],
   "source": [
    "%%time\n",
    "import pandas as pd\n",
    "pd.read_csv('https://raw.githubusercontent.com/MateLabs/Public-Datasets/master/Datasets/wine.csv')"
   ]
  },
  {
   "cell_type": "code",
   "execution_count": null,
   "metadata": {},
   "outputs": [],
   "source": [
    "%%time\n",
    "import modin.pandas as pd\n",
    "pd.read_csv('https://raw.githubusercontent.com/MateLabs/Public-Datasets/master/Datasets/wine.csv')"
   ]
  },
  {
   "cell_type": "code",
   "execution_count": null,
   "metadata": {},
   "outputs": [],
   "source": [
    "import time\n",
    "import pandas as pd\n",
    "df=pd.read_csv('test.csv')\n",
    "s = time.time()\n",
    "df = pd.concat([df for _ in range(100)])\n",
    "e = time.time()\n",
    "print(\"Pandas Concat Time = {}\".format(e-s))"
   ]
  },
  {
   "cell_type": "code",
   "execution_count": null,
   "metadata": {},
   "outputs": [],
   "source": [
    "import time\n",
    "import modin.pandas as pd\n",
    "df = pd.read_csv('test.csv')\n",
    "s = time.time()\n",
    "df = pd.concat([df for _ in range(100)])\n",
    "e = time.time()\n",
    "print(\"Modin pandas Concat Time = {}\".format(e-s))"
   ]
  }
 ],
 "metadata": {
  "kernelspec": {
   "display_name": "Python 3",
   "language": "python",
   "name": "python3"
  },
  "language_info": {
   "codemirror_mode": {
    "name": "ipython",
    "version": 3
   },
   "file_extension": ".py",
   "mimetype": "text/x-python",
   "name": "python",
   "nbconvert_exporter": "python",
   "pygments_lexer": "ipython3",
   "version": "3.9.7"
  }
 },
 "nbformat": 4,
 "nbformat_minor": 4
}
