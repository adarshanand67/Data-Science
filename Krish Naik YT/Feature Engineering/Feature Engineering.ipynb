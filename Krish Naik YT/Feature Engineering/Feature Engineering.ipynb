{
 "cells": [
  {
   "cell_type": "code",
   "execution_count": 1,
   "metadata": {},
   "outputs": [],
   "source": [
    "import numpy as np\n",
    "import pandas as pd\n",
    "import matplotlib.pyplot as plt\n",
    "import seaborn as sns\n",
    "import scipy.stats as stats\n",
    "import bs4 as bs\n",
    "import requests\n",
    "\n",
    "import keras as ks\n",
    "import cv2 as cv\n",
    "import sklearn as sk\n",
    "\n",
    "import re\n",
    "import os\n",
    "import datetime\n",
    "import random\n",
    "import time\n",
    "import missingno as msno\n",
    "\n",
    "import warnings\n",
    "warnings.filterwarnings('ignore')\n",
    "pd.set_option('display.max_columns', None)\n",
    "pd.set_option('display.float_format', lambda x: '%.2f' % x)\n",
    "sns.set(style='whitegrid', color_codes=True, font_scale=1.5, palette='Blues', font='Arial', rc={'figure.figsize':(8,6)})"
   ]
  },
  {
   "cell_type": "markdown",
   "metadata": {},
   "source": [
    "# One hot Encoding\n",
    "Using top 10 most frequent Categories"
   ]
  },
  {
   "cell_type": "markdown",
   "metadata": {},
   "source": [
    "# Label Encoding\n",
    "\n",
    "     Ordinal Encoding\n",
    "        Useful for categorical data (e.g. country, city, etc.)\n",
    "\n",
    "        1,2,3,4 assigned to different categorical variables"
   ]
  },
  {
   "cell_type": "markdown",
   "metadata": {},
   "source": [
    "# Count of Frequency Encoding\n",
    "Does not increase the dimensions of the dataset"
   ]
  },
  {
   "cell_type": "markdown",
   "metadata": {},
   "source": [
    "# Scaling vs Normalization"
   ]
  },
  {
   "cell_type": "markdown",
   "metadata": {},
   "source": [
    "# 4 types of methods to handle missing values in categorical variables\n",
    "1. Delete the row (Drop all rows with missing values) - Not helpful for smaller datasets\n",
    "2. Fill the missing values with the most frequent value in the column(MODE)\n",
    "3. Using classifier model to predict the category of missing values\n",
    "4. Unsupervised Machine Learning techniques - KMeans Clustering"
   ]
  }
 ],
 "metadata": {
  "interpreter": {
   "hash": "c0f70214c0dd213f07f54ee5d6e0ea644bdbba35113c9bfe8aaa0d1db03ad5dd"
  },
  "kernelspec": {
   "display_name": "Python 3.9.7 64-bit ('base': conda)",
   "language": "python",
   "name": "python3"
  },
  "language_info": {
   "codemirror_mode": {
    "name": "ipython",
    "version": 3
   },
   "file_extension": ".py",
   "mimetype": "text/x-python",
   "name": "python",
   "nbconvert_exporter": "python",
   "pygments_lexer": "ipython3",
   "version": "3.9.7"
  },
  "orig_nbformat": 4
 },
 "nbformat": 4,
 "nbformat_minor": 2
}
