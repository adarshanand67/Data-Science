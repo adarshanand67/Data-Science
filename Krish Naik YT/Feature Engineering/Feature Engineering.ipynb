{
 "cells": [
  {
   "cell_type": "code",
   "execution_count": 1,
   "metadata": {},
   "outputs": [],
   "source": [
    "# Adarsh Anand\n",
    "from sklearn.preprocessing import StandardScaler, LabelEncoder, OneHotEncoder, MinMaxScaler\n",
    "from sklearn.model_selection import (GridSearchCV, StratifiedKFold,train_test_split)\n",
    "from sklearn.metrics import (accuracy_score, classification_report,\n",
    "confusion_matrix, mean_absolute_error,roc_auc_score)\n",
    "from sklearn.ensemble import (AdaBoostClassifier, RandomForestClassifier,RandomForestRegressor)\n",
    "import re,random,sys,json,time,os,warnings,pickle,datetime,subprocess,requests,math\n",
    "import pyforest,klib,missingno as msno\n",
    "import numpy as np, pandas as pd\n",
    "from pandas_profiling import ProfileReport\n",
    "import matplotlib.pyplot as plt, seaborn as sns\n",
    "%matplotlib inline\n",
    "from typing import List, Dict, Tuple, Any\n",
    "#import keras as kr,tensorflow as tf,cv2 as cv\n",
    "\n",
    "warnings.filterwarnings('ignore')\n",
    "%config InlineBackend.figure_format = 'retina'\n",
    "pd.set_option('display.max_columns', None)\n",
    "pd.set_option('display.float_format', lambda x: '%.2f' % x)\n",
    "sns.set(style='whitegrid', color_codes=True, font_scale=1.5,\n",
    "        palette='plasma', font='Arial', rc={'figure.figsize': (10, 8)})"
   ]
  },
  {
   "cell_type": "markdown",
   "metadata": {},
   "source": [
    "# One hot Encoding\n",
    "Using top 10 most frequent Categories"
   ]
  },
  {
   "cell_type": "markdown",
   "metadata": {},
   "source": [
    "# Label Encoding\n",
    "\n",
    "     Ordinal Encoding\n",
    "        Useful for categorical data (e.g. country, city, etc.)\n",
    "\n",
    "        1,2,3,4 assigned to different categorical variables"
   ]
  },
  {
   "cell_type": "markdown",
   "metadata": {},
   "source": [
    "# Count of Frequency Encoding\n",
    "Does not increase the dimensions of the dataset"
   ]
  },
  {
   "cell_type": "markdown",
   "metadata": {},
   "source": [
    "# Scaling vs Normalization"
   ]
  },
  {
   "cell_type": "markdown",
   "metadata": {},
   "source": [
    "# 4 types of methods to handle missing values in categorical variables\n",
    "1. Delete the row (Drop all rows with missing values) - Not helpful for smaller datasets\n",
    "2. Fill the missing values with the most frequent value in the column(MODE)\n",
    "3. Using classifier model to predict the category of missing values\n",
    "4. Unsupervised Machine Learning techniques - KMeans Clustering"
   ]
  }
 ],
 "metadata": {
  "interpreter": {
   "hash": "c0f70214c0dd213f07f54ee5d6e0ea644bdbba35113c9bfe8aaa0d1db03ad5dd"
  },
  "kernelspec": {
   "display_name": "Python 3.9.7 64-bit ('base': conda)",
   "language": "python",
   "name": "python3"
  },
  "language_info": {
   "codemirror_mode": {
    "name": "ipython",
    "version": 3
   },
   "file_extension": ".py",
   "mimetype": "text/x-python",
   "name": "python",
   "nbconvert_exporter": "python",
   "pygments_lexer": "ipython3",
   "version": "3.9.7"
  },
  "orig_nbformat": 4
 },
 "nbformat": 4,
 "nbformat_minor": 2
}
