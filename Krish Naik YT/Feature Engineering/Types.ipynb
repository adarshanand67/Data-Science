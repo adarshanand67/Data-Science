{
 "cells": [
  {
   "cell_type": "code",
   "execution_count": 1,
   "metadata": {},
   "outputs": [],
   "source": [
    "# TYPES OF ENCODING TECHNIQUES\n",
    "\n",
    "# 1. One-Hot Encoding\n",
    "# 2. Label Encoding\n",
    "\n",
    "# Categorical variables ? - They are variables that have a finite number of possible values. Non-numeric variables."
   ]
  },
  {
   "cell_type": "code",
   "execution_count": 2,
   "metadata": {},
   "outputs": [],
   "source": [
    "# One Hot Encoding\n",
    "\n",
    "# Dummy Variables - A dummy variable is the values of the categorical variables are replaced by 1 and 0.\n",
    "\n",
    "# Dummy variable trap - Reduce 1 coulmn.\n",
    "\n",
    "# IF a lot of categories are present in a column, then take only top 10 for One Hot Encoding."
   ]
  },
  {
   "cell_type": "code",
   "execution_count": null,
   "metadata": {},
   "outputs": [],
   "source": [
    "# Label Encoding\n"
   ]
  }
 ],
 "metadata": {
  "interpreter": {
   "hash": "bb0c92acf8964b0fe09c322daba6003d865312bb32afcf6b0b5a2b2ed2e45921"
  },
  "kernelspec": {
   "display_name": "Python 3.9.7 64-bit ('base': conda)",
   "language": "python",
   "name": "python3"
  },
  "language_info": {
   "codemirror_mode": {
    "name": "ipython",
    "version": 3
   },
   "file_extension": ".py",
   "mimetype": "text/x-python",
   "name": "python",
   "nbconvert_exporter": "python",
   "pygments_lexer": "ipython3",
   "version": "3.9.7"
  },
  "orig_nbformat": 4
 },
 "nbformat": 4,
 "nbformat_minor": 2
}
