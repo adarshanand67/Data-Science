{
 "cells": [
  {
   "cell_type": "markdown",
   "metadata": {},
   "source": [
    "# Statistics\n",
    "\n",
    "Collection, organization, analysis , interpretation and presentation of data\n"
   ]
  },
  {
   "cell_type": "markdown",
   "metadata": {},
   "source": [
    "\n",
    "    Population - entire data\n",
    "\n",
    "    Sample - random sample of data (Subset of population)\n",
    "\n",
    "    Confidence intervals - 95% confidence interval\n",
    "\n",
    "    Hypothesis testing - Z test, t test, ANOVA"
   ]
  },
  {
   "cell_type": "markdown",
   "metadata": {},
   "source": [
    "\n",
    "# GAUSSIAN DISTRIBUTION\n",
    "\n",
    "    X ~ N(mu, sigma^2)\n",
    "\n",
    "    68 - 95 - 99.7% confidence intervals\n",
    "\n",
    "    mu - mean\n",
    "\n",
    "    sigma - standard deviation\n",
    "\n",
    "    (mu-sigma, mu+sigma) - 68% confidence interval\n",
    "\n",
    "    (mu-2sigma, mu+2sigma) - 95% confidence interval\n",
    "\n",
    "    (mu-3sigma, mu+3sigma) - 99.7% confidence interval"
   ]
  },
  {
   "cell_type": "markdown",
   "metadata": {},
   "source": [
    "# LOG NORMAL DISTRIBUTION\n",
    "\n",
    " ln(x) is normally distributed\n",
    "\n",
    " ln(x) ~ N(mu,sigma)"
   ]
  },
  {
   "cell_type": "markdown",
   "metadata": {},
   "source": [
    "<img src = \"https://cdn.wallstreetmojo.com/wp-content/uploads/2020/01/Log-Normal-Distribution.jpg\">"
   ]
  },
  {
   "cell_type": "markdown",
   "metadata": {},
   "source": [
    "Gaussian , Log normal distribution\n"
   ]
  },
  {
   "cell_type": "markdown",
   "metadata": {},
   "source": [
    "Convert everything to log scale -> Convert to standard normal distribution"
   ]
  },
  {
   "cell_type": "markdown",
   "metadata": {},
   "source": [
    "# Covariance and Correlation\n",
    "\n",
    "    cov(x,y) = 1/n * sum(x_i - mu_x) * sum(y_i - mu_y)\n",
    "\n",
    "    cov(x,x) = var(x)\n",
    "\n",
    "    cov(x,y) = cov(y,x)\n",
    "\n",
    "    cov(x,y+z) = cov(x,y) + cov(x,z)\n",
    "\n",
    "    if cov>0\n",
    "    - X increases as y increases\n",
    "    - X decreases as y decreases\n",
    "\n",
    "    if cov<0\n",
    "    - X increases as y decreases\n",
    "    - X decreases as y increases\n",
    "\n",
    "    if cov=0\n",
    "    - X and y are independent\n",
    "\n",
    "    Correlation values are standardized whereas covariance values are not.\n",
    "\n",
    "    corr(x,y) = cov(x,y)/(sigma_x * sigma_y)\n",
    "\n",
    "    corr(x,y) belongs to [-1,1]\n",
    "\n"
   ]
  },
  {
   "cell_type": "markdown",
   "metadata": {},
   "source": [
    "# Mean , Median , Mode\n",
    "\n",
    "    Mean - average of data\n",
    "\n",
    "    Median - middle value of data\n",
    "    \n",
    "    Mode - most frequent value of data\n",
    "\n"
   ]
  },
  {
   "cell_type": "markdown",
   "metadata": {},
   "source": [
    "# Variance and Standard Deviation\n",
    "\n",
    "    Variance - measure of dispersion\n",
    "\n",
    "    Standard Deviation - measure of dispersion (square root of variance)"
   ]
  },
  {
   "cell_type": "markdown",
   "metadata": {},
   "source": [
    "# Central Limit Theorem\n",
    "\n",
    "    Central Limit Theorem - Theorem that states that the distribution of a random variable is approximately normal if it is sufficiently large."
   ]
  },
  {
   "cell_type": "markdown",
   "metadata": {},
   "source": [
    "# Chebyshev Inequality\n",
    "\n",
    "    If not gaussian distribution\n",
    "    - P(mu-k*sigma < x < mu+k*sigma) > 1-1/k*k\n",
    "    "
   ]
  },
  {
   "cell_type": "markdown",
   "metadata": {},
   "source": [
    "# Spearman Rank Correlation Coefficient\n",
    "\n",
    "    Spearman Rank Correlation - Correlation between two variables that is not a linear relationship.\n",
    "    (Non linear correlation) , better than Pearson Correlation Coefficient(which is linear)\n",
    "\n",
    "    Adding some outliers to the data changes Pearson Correlation Coefficient more so its not good."
   ]
  },
  {
   "cell_type": "markdown",
   "metadata": {},
   "source": [
    "# Normalisation vs Standardisation\n",
    "\n",
    "    Normalisation - Normalize the data so it lies between 0 to 1.\n",
    "    \n",
    "\n",
    "    Standardisation - Standardize the data so that the mean is 0 and the standard deviation is 1."
   ]
  },
  {
   "cell_type": "markdown",
   "metadata": {},
   "source": [
    "# P value\n",
    "     - Probability for the null hypothesis to be true\n",
    "\n",
    "# Null hypothesis:\n",
    "     - Treats everything equal\n",
    "     "
   ]
  },
  {
   "cell_type": "markdown",
   "metadata": {},
   "source": [
    "# Skewness\n",
    "\n",
    "    Skewness - measures the asymmetry of the distribution.\n",
    "    - Right skewed - positive skewness\n",
    "    - Left skewed - negative skewness"
   ]
  },
  {
   "cell_type": "markdown",
   "metadata": {},
   "source": [
    "<img src=\"https://upload.wikimedia.org/wikipedia/commons/thumb/c/cc/Relationship_between_mean_and_median_under_different_skewness.png/434px-Relationship_between_mean_and_median_under_different_skewness.png\">"
   ]
  },
  {
   "cell_type": "markdown",
   "metadata": {},
   "source": [
    "- Positive skewed \n",
    "\n",
    "    Wealth distribution\n",
    "    \n",
    "    Length of comment\n",
    "---\n",
    "- Symmetric distribution\n",
    "\n",
    "    IRIS datast\n",
    "    \n",
    "    Age\n",
    "\n",
    "    Weight\n",
    "---\n",
    "- Negative skewed\n",
    "\n",
    "    Life span"
   ]
  },
  {
   "cell_type": "markdown",
   "metadata": {},
   "source": [
    "# Bernouille distribution\n",
    "\n",
    "    Bernouille distribution - Distribution of a random variable with a fixed probability of success.\n",
    "    - P(n,x) = p^x * (1-p)^(n-x)\n",
    "    - Variance = p(1-p)\n",
    "    - Standard Deviation = sqrt(p(1-p))"
   ]
  },
  {
   "cell_type": "markdown",
   "metadata": {},
   "source": [
    "# Sampling Techniques\n",
    "\n",
    "    - Random Sampling (any random sample of data)\n",
    "    - Cluster Sampling(domain specific sampling)\n",
    "    - Stratified Sampling(Training and testing data)"
   ]
  },
  {
   "cell_type": "markdown",
   "metadata": {},
   "source": []
  }
 ],
 "metadata": {
  "interpreter": {
   "hash": "bb0c92acf8964b0fe09c322daba6003d865312bb32afcf6b0b5a2b2ed2e45921"
  },
  "kernelspec": {
   "display_name": "Python 3.9.7 64-bit ('base': conda)",
   "language": "python",
   "name": "python3"
  },
  "language_info": {
   "codemirror_mode": {
    "name": "ipython",
    "version": 3
   },
   "file_extension": ".py",
   "mimetype": "text/x-python",
   "name": "python",
   "nbconvert_exporter": "python",
   "pygments_lexer": "ipython3",
   "version": "3.9.7"
  },
  "orig_nbformat": 4
 },
 "nbformat": 4,
 "nbformat_minor": 2
}
