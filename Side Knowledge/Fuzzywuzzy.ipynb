{
 "cells": [
  {
   "cell_type": "code",
   "execution_count": 1,
   "metadata": {},
   "outputs": [],
   "source": [
    "import numpy as np\n",
    "import pandas as pd\n",
    "import pandas_profiling as pp\n",
    "from pandas_profiling import ProfileReport\n",
    "import matplotlib.pyplot as plt\n",
    "%matplotlib inline\n",
    "# from autoviz.AutoViz_Class import AutoViz_Class\n",
    "import seaborn as sns\n",
    "import missingno as msno\n",
    "\n",
    "import scipy.stats as stats\n",
    "import bs4 as bs\n",
    "import requests\n",
    "\n",
    "import keras as ks\n",
    "# import tensorflow as tf\n",
    "import cv2 as cv\n",
    "import sklearn as sk\n",
    "\n",
    "import re\n",
    "import os\n",
    "import datetime\n",
    "import random\n",
    "import time\n",
    "\n",
    "import warnings\n",
    "warnings.filterwarnings('ignore')\n",
    "\n",
    "pd.set_option('display.max_columns', None)\n",
    "pd.set_option('display.float_format', lambda x: '%.2f' % x)\n",
    "sns.set(style='whitegrid', color_codes=True, font_scale=1.5, palette='GnBu_d', font='Arial', rc={'figure.figsize':(8,6)})"
   ]
  },
  {
   "cell_type": "code",
   "execution_count": 2,
   "metadata": {},
   "outputs": [],
   "source": [
    "# !pip install fuzzywuzzy"
   ]
  },
  {
   "cell_type": "code",
   "execution_count": 3,
   "metadata": {},
   "outputs": [
    {
     "name": "stdout",
     "output_type": "stream",
     "text": [
      "List of ratios: \n",
      "[('g. for geeks', 95), ('geek for geek', 93), ('geek geek', 86)] \n",
      "\n",
      "Best among the above list:  ('g. for geeks', 95)\n"
     ]
    }
   ],
   "source": [
    "# Python code showing all the ratios together,\n",
    "# make sure you have installed fuzzywuzzy module\n",
    "\n",
    "from fuzzywuzzy import fuzz\n",
    "from fuzzywuzzy import process\n",
    "\n",
    "# for process library,\n",
    "choices = ['geek for geek', 'geek geek', 'g. for geeks']\n",
    "query = 'geeks for geeks'\n",
    "print( \"List of ratios: \")\n",
    "print( process.extract(query, choices), '\\n')\n",
    "print( \"Best among the above list: \",process.extractOne(query, choices))\n",
    "\n",
    "# Use cases?\n",
    "\n",
    "# Use fuzzywuzzy to find the best match for a given query string if user input is not exact\n"
   ]
  },
  {
   "cell_type": "code",
   "execution_count": null,
   "metadata": {},
   "outputs": [],
   "source": []
  }
 ],
 "metadata": {
  "interpreter": {
   "hash": "c0f70214c0dd213f07f54ee5d6e0ea644bdbba35113c9bfe8aaa0d1db03ad5dd"
  },
  "kernelspec": {
   "display_name": "Python 3.9.7 64-bit ('base': conda)",
   "language": "python",
   "name": "python3"
  },
  "language_info": {
   "codemirror_mode": {
    "name": "ipython",
    "version": 3
   },
   "file_extension": ".py",
   "mimetype": "text/x-python",
   "name": "python",
   "nbconvert_exporter": "python",
   "pygments_lexer": "ipython3",
   "version": "3.9.7"
  },
  "orig_nbformat": 4
 },
 "nbformat": 4,
 "nbformat_minor": 2
}
