{
 "cells": [
  {
   "cell_type": "code",
   "execution_count": 1,
   "metadata": {},
   "outputs": [],
   "source": [
    "# Adarsh Anand\n",
    "from sklearn.preprocessing import StandardScaler, LabelEncoder, OneHotEncoder, MinMaxScaler\n",
    "from sklearn.model_selection import (GridSearchCV, StratifiedKFold,train_test_split)\n",
    "from sklearn.metrics import (accuracy_score, classification_report,\n",
    "confusion_matrix, mean_absolute_error,roc_auc_score)\n",
    "from sklearn.ensemble import (AdaBoostClassifier, RandomForestClassifier,RandomForestRegressor)\n",
    "import re,random,sys,json,time,os,warnings,pickle,datetime,subprocess,requests,math\n",
    "import pyforest,klib,missingno as msno\n",
    "import numpy as np, pandas as pd\n",
    "from pandas_profiling import ProfileReport\n",
    "import matplotlib.pyplot as plt, seaborn as sns\n",
    "%matplotlib inline\n",
    "from typing import List, Dict, Tuple, Any\n",
    "#import keras as kr,tensoflow as tf,cv2 as cv\n",
    "\n",
    "warnings.filterwarnings('ignore')\n",
    "%config InlineBackend.figure_format = 'retina'\n",
    "pd.set_option('display.max_columns', None)\n",
    "pd.set_option('display.float_format', lambda x: '%.2f' % x)\n",
    "sns.set(style='whitegrid', color_codes=True, font_scale=1.5,\n",
    "        palette='hls', font='Arial', rc={'figure.figsize': (10, 8)})"
   ]
  },
  {
   "cell_type": "code",
   "execution_count": 2,
   "metadata": {},
   "outputs": [],
   "source": [
    "# !pip install fuzzywuzzy"
   ]
  },
  {
   "cell_type": "code",
   "execution_count": 3,
   "metadata": {},
   "outputs": [
    {
     "name": "stdout",
     "output_type": "stream",
     "text": [
      "List of ratios: \n",
      "[('g. for geeks', 95), ('geek for geek', 93), ('geek geek', 86)] \n",
      "\n",
      "Best among the above list:  ('g. for geeks', 95)\n"
     ]
    }
   ],
   "source": [
    "# Python code showing all the ratios together,\n",
    "# make sure you have installed fuzzywuzzy module\n",
    "from fuzzywuzzy import fuzz\n",
    "from fuzzywuzzy import process\n",
    "\n",
    "# for process library,\n",
    "choices = ['geek for geek', 'geek geek', 'g. for geeks']\n",
    "query = 'geeks for geeks'\n",
    "print( \"List of ratios: \")\n",
    "print( process.extract(query, choices), '\\n')\n",
    "print( \"Best among the above list: \",process.extractOne(query, choices))\n",
    "\n",
    "# Use cases?\n",
    "\n",
    "# Use fuzzywuzzy to find the best match for a given query string if user input is not exact\n"
   ]
  },
  {
   "cell_type": "code",
   "execution_count": null,
   "metadata": {},
   "outputs": [],
   "source": []
  }
 ],
 "metadata": {
  "interpreter": {
   "hash": "c0f70214c0dd213f07f54ee5d6e0ea644bdbba35113c9bfe8aaa0d1db03ad5dd"
  },
  "kernelspec": {
   "display_name": "Python 3.9.7 64-bit ('base': conda)",
   "language": "python",
   "name": "python3"
  },
  "language_info": {
   "codemirror_mode": {
    "name": "ipython",
    "version": 3
   },
   "file_extension": ".py",
   "mimetype": "text/x-python",
   "name": "python",
   "nbconvert_exporter": "python",
   "pygments_lexer": "ipython3",
   "version": "3.9.7"
  },
  "orig_nbformat": 4
 },
 "nbformat": 4,
 "nbformat_minor": 2
}
