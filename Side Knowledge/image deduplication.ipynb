{
 "cells": [
  {
   "cell_type": "code",
   "execution_count": 1,
   "metadata": {},
   "outputs": [],
   "source": [
    "import pyforest\n",
    "import numpy as np\n",
    "import pandas as pd\n",
    "from pandas_profiling import ProfileReport\n",
    "import matplotlib.pyplot as plt\n",
    "%matplotlib inline\n",
    "# from autoviz.AutoViz_Class import AutoViz_Class\n",
    "import seaborn as sns\n",
    "import missingno as msno\n",
    "\n",
    "import bs4 as bs\n",
    "import requests\n",
    "\n",
    "import scipy.stats as stats\n",
    "import keras as ks\n",
    "# import tensorflow as tf\n",
    "import cv2 as cv\n",
    "\n",
    "import re\n",
    "import os\n",
    "import datetime\n",
    "import random\n",
    "import time\n",
    "\n",
    "import warnings\n",
    "warnings.filterwarnings('ignore')\n",
    "\n",
    "pd.set_option('display.max_columns', None)\n",
    "pd.set_option('display.float_format', lambda x: '%.2f' % x)\n",
    "sns.set(style='whitegrid', color_codes=True, font_scale=1.5, palette='plasma', font='Arial', rc={'figure.figsize':(8,6)})"
   ]
  },
  {
   "cell_type": "code",
   "execution_count": 3,
   "metadata": {},
   "outputs": [
    {
     "name": "stdout",
     "output_type": "stream",
     "text": [
      "Requirement already satisfied: imgdupes in c:\\users\\hp\\anaconda3\\lib\\site-packages (0.0.26)\n",
      "Requirement already satisfied: joblib in c:\\users\\hp\\anaconda3\\lib\\site-packages (from imgdupes) (1.0.1)\n",
      "Requirement already satisfied: pathlib in c:\\users\\hp\\anaconda3\\lib\\site-packages (from imgdupes) (1.0.1)\n",
      "Requirement already satisfied: scipy in c:\\users\\hp\\anaconda3\\lib\\site-packages (from imgdupes) (1.7.1)\n",
      "Requirement already satisfied: numpy in c:\\users\\hp\\anaconda3\\lib\\site-packages (from imgdupes) (1.20.3)\n",
      "Requirement already satisfied: six in c:\\users\\hp\\anaconda3\\lib\\site-packages (from imgdupes) (1.16.0)\n",
      "Requirement already satisfied: pathos in c:\\users\\hp\\anaconda3\\lib\\site-packages (from imgdupes) (0.2.8)\n",
      "Requirement already satisfied: ImageHash in c:\\users\\hp\\anaconda3\\lib\\site-packages (from imgdupes) (4.2.1)\n",
      "Requirement already satisfied: termcolor in c:\\users\\hp\\anaconda3\\lib\\site-packages (from imgdupes) (1.1.0)\n",
      "Requirement already satisfied: webcolors in c:\\users\\hp\\anaconda3\\lib\\site-packages (from imgdupes) (1.11.1)\n",
      "Requirement already satisfied: opencv-python in c:\\users\\hp\\anaconda3\\lib\\site-packages (from imgdupes) (4.5.5.62)\n",
      "Requirement already satisfied: tqdm in c:\\users\\hp\\anaconda3\\lib\\site-packages (from imgdupes) (4.62.3)\n",
      "Requirement already satisfied: orderedset in c:\\users\\hp\\anaconda3\\lib\\site-packages (from imgdupes) (2.0.3)\n",
      "Requirement already satisfied: Pillow in c:\\users\\hp\\anaconda3\\lib\\site-packages (from imgdupes) (8.4.0)\n",
      "Requirement already satisfied: future in c:\\users\\hp\\anaconda3\\lib\\site-packages (from imgdupes) (0.18.2)\n",
      "Requirement already satisfied: PyWavelets in c:\\users\\hp\\anaconda3\\lib\\site-packages (from ImageHash->imgdupes) (1.1.1)\n",
      "Requirement already satisfied: dill>=0.3.4 in c:\\users\\hp\\anaconda3\\lib\\site-packages (from pathos->imgdupes) (0.3.4)\n",
      "Requirement already satisfied: pox>=0.3.0 in c:\\users\\hp\\anaconda3\\lib\\site-packages (from pathos->imgdupes) (0.3.0)\n",
      "Requirement already satisfied: ppft>=1.6.6.4 in c:\\users\\hp\\anaconda3\\lib\\site-packages (from pathos->imgdupes) (1.6.6.4)\n",
      "Requirement already satisfied: multiprocess>=0.70.12 in c:\\users\\hp\\anaconda3\\lib\\site-packages (from pathos->imgdupes) (0.70.12.2)\n",
      "Requirement already satisfied: colorama in c:\\users\\hp\\anaconda3\\lib\\site-packages (from tqdm->imgdupes) (0.4.4)\n"
     ]
    }
   ],
   "source": [
    "!pip install imgdupes\n"
   ]
  }
 ],
 "metadata": {
  "interpreter": {
   "hash": "c0f70214c0dd213f07f54ee5d6e0ea644bdbba35113c9bfe8aaa0d1db03ad5dd"
  },
  "kernelspec": {
   "display_name": "Python 3.9.7 64-bit ('base': conda)",
   "language": "python",
   "name": "python3"
  },
  "language_info": {
   "codemirror_mode": {
    "name": "ipython",
    "version": 3
   },
   "file_extension": ".py",
   "mimetype": "text/x-python",
   "name": "python",
   "nbconvert_exporter": "python",
   "pygments_lexer": "ipython3",
   "version": "3.9.7"
  },
  "orig_nbformat": 4
 },
 "nbformat": 4,
 "nbformat_minor": 2
}
