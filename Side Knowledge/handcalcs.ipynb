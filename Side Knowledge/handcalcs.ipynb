{
 "cells": [
  {
   "cell_type": "code",
   "execution_count": 36,
   "metadata": {},
   "outputs": [],
   "source": [
    "import pyforest\n",
    "import numpy as np\n",
    "import pandas as pd\n",
    "from pandas_profiling import ProfileReport\n",
    "import matplotlib.pyplot as plt\n",
    "%matplotlib inline\n",
    "# from autoviz.AutoViz_Class import AutoViz_Class\n",
    "import seaborn as sns\n",
    "import missingno as msno\n",
    "\n",
    "%config InlineBackend.figure_format = 'retina'\n",
    "import bs4 as bs\n",
    "import requests\n",
    "\n",
    "import scipy.stats as stats\n",
    "import keras as ks\n",
    "# import tensorflow as tf\n",
    "import cv2 as cv\n",
    "\n",
    "import re\n",
    "import os\n",
    "import math\n",
    "import datetime\n",
    "import random\n",
    "import time\n",
    "\n",
    "import warnings\n",
    "warnings.filterwarnings('ignore')\n",
    "\n",
    "pd.set_option('display.max_columns', None)\n",
    "pd.set_option('display.float_format', lambda x: '%.2f' % x)\n",
    "sns.set(style='whitegrid', color_codes=True, font_scale=1.5, palette='plasma', font='Arial', rc={'figure.figsize':(8,6)})"
   ]
  },
  {
   "cell_type": "code",
   "execution_count": 37,
   "metadata": {},
   "outputs": [],
   "source": [
    "import handcalcs.render\n"
   ]
  },
  {
   "cell_type": "code",
   "execution_count": 38,
   "metadata": {},
   "outputs": [
    {
     "data": {
      "text/latex": [
       "\\[\n",
       "\\begin{aligned}\n",
       "a &= 2 \\; \n",
       "\\\\[10pt]\n",
       "b &= 3 \\; \n",
       "\\\\[10pt]\n",
       "c &= 2 \\cdot a + \\frac{ b }{ 3 }  = 2 \\cdot 2 + \\frac{ 3 }{ 3 } &= 5.0  \n",
       "\\\\[10pt]\n",
       "x &= a + b  = 2 + 3 &= 5  \n",
       "\\\\[10pt]\n",
       "y &= a \\cdot b  = 2 \\cdot 3 &= 6  \n",
       "\\\\[10pt]\n",
       "z &= \\left( a \\right) ^{ b }  = \\left( 2 \\right) ^{ 3 } &= 8  \n",
       "\\end{aligned}\n",
       "\\]"
      ],
      "text/plain": [
       "<IPython.core.display.Latex object>"
      ]
     },
     "metadata": {},
     "output_type": "display_data"
    }
   ],
   "source": [
    "%%render\n",
    "a = 2\n",
    "b = 3\n",
    "c = 2*a + b/3\n",
    "x = a + b\n",
    "\n",
    "y= a*b\n",
    "z= a**b"
   ]
  },
  {
   "cell_type": "code",
   "execution_count": 39,
   "metadata": {},
   "outputs": [],
   "source": [
    "import handcalcs.render\n",
    "from math import sqrt, pi\n"
   ]
  },
  {
   "cell_type": "code",
   "execution_count": 41,
   "metadata": {},
   "outputs": [
    {
     "data": {
      "text/latex": [
       "\\[\n",
       "\\begin{aligned}\n",
       "\\pi &= 3.142 \\; \n",
       "\\\\[10pt]\n",
       "x &= \\mathrm{math.sin} { y }  = math.sin { 6 } &= -2.794 \\times 10 ^ {-1 }  \n",
       "\\end{aligned}\n",
       "\\]"
      ],
      "text/plain": [
       "<IPython.core.display.Latex object>"
      ]
     },
     "metadata": {},
     "output_type": "display_data"
    }
   ],
   "source": [
    "%%render\n",
    "pi\n",
    "x = math.sin(y)"
   ]
  },
  {
   "cell_type": "code",
   "execution_count": null,
   "metadata": {},
   "outputs": [],
   "source": []
  }
 ],
 "metadata": {
  "interpreter": {
   "hash": "c0f70214c0dd213f07f54ee5d6e0ea644bdbba35113c9bfe8aaa0d1db03ad5dd"
  },
  "kernelspec": {
   "display_name": "Python 3.9.7 64-bit ('base': conda)",
   "language": "python",
   "name": "python3"
  },
  "language_info": {
   "codemirror_mode": {
    "name": "ipython",
    "version": 3
   },
   "file_extension": ".py",
   "mimetype": "text/x-python",
   "name": "python",
   "nbconvert_exporter": "python",
   "pygments_lexer": "ipython3",
   "version": "3.9.7"
  },
  "orig_nbformat": 4
 },
 "nbformat": 4,
 "nbformat_minor": 2
}
