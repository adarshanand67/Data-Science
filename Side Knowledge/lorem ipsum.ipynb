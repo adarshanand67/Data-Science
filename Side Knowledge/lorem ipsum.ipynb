{
 "cells": [
  {
   "cell_type": "code",
   "execution_count": 10,
   "metadata": {},
   "outputs": [
    {
     "name": "stdout",
     "output_type": "stream",
     "text": [
      "^C\n",
      "Requirement already satisfied: lorem-text in c:\\users\\hp\\anaconda3\\lib\\site-packages (2.1)\n",
      "Requirement already satisfied: Click>=7.0 in c:\\users\\hp\\anaconda3\\lib\\site-packages (from lorem-text) (8.0.3)\n",
      "Requirement already satisfied: colorama in c:\\users\\hp\\anaconda3\\lib\\site-packages (from Click>=7.0->lorem-text) (0.4.3)\n"
     ]
    }
   ],
   "source": [
    "!pip install lorem-text\n"
   ]
  },
  {
   "cell_type": "code",
   "execution_count": null,
   "metadata": {},
   "outputs": [],
   "source": [
    "from lorem_text import lorem\n",
    "\n",
    "paragraph_length = 5\n",
    "text = lorem.paragraphs(paragraph_length) # Generate a paragraph of lorem text\n",
    "# NOTE - lorem.paragraphs(6) is a list of 6 paragraphs"
   ]
  },
  {
   "cell_type": "code",
   "execution_count": null,
   "metadata": {},
   "outputs": [],
   "source": [
    "text"
   ]
  },
  {
   "cell_type": "code",
   "execution_count": null,
   "metadata": {},
   "outputs": [],
   "source": [
    "paragraph_length =1\n",
    "text = lorem.paragraphs(paragraph_length) # Generate a paragraph of lorem text\n",
    "# NOTE - lorem.paragraphs(6) is a list of 6 paragraphs"
   ]
  },
  {
   "cell_type": "code",
   "execution_count": null,
   "metadata": {},
   "outputs": [],
   "source": [
    "text"
   ]
  },
  {
   "cell_type": "code",
   "execution_count": null,
   "metadata": {},
   "outputs": [],
   "source": [
    "def generate_lorem_ipsum(paragraph_length):\n",
    "    ''' Generate a paragraph of lorem text '''\n",
    "    from lorem_text import lorem \n",
    "    \n",
    "    text = lorem.paragraphs(paragraph_length) \n",
    "    return text\n",
    "\n",
    "text = generate_lorem_ipsum(paragraph_length)\n",
    "text"
   ]
  }
 ],
 "metadata": {
  "interpreter": {
   "hash": "c0f70214c0dd213f07f54ee5d6e0ea644bdbba35113c9bfe8aaa0d1db03ad5dd"
  },
  "kernelspec": {
   "display_name": "Python 3.9.7 ('base')",
   "language": "python",
   "name": "python3"
  },
  "language_info": {
   "codemirror_mode": {
    "name": "ipython",
    "version": 3
   },
   "file_extension": ".py",
   "mimetype": "text/x-python",
   "name": "python",
   "nbconvert_exporter": "python",
   "pygments_lexer": "ipython3",
   "version": "3.9.7"
  },
  "orig_nbformat": 4
 },
 "nbformat": 4,
 "nbformat_minor": 2
}
