{
 "cells": [
  {
   "cell_type": "code",
   "execution_count": 4,
   "metadata": {},
   "outputs": [],
   "source": [
    "import textwrap as tr"
   ]
  },
  {
   "cell_type": "code",
   "execution_count": 5,
   "metadata": {},
   "outputs": [],
   "source": [
    "def generate_lorem_ipsum(paragraph_length):\n",
    "    ''' Generate a paragraph of lorem text '''\n",
    "    from lorem_text import lorem \n",
    "    \n",
    "    text = lorem.paragraphs(paragraph_length) \n",
    "    return text"
   ]
  },
  {
   "cell_type": "code",
   "execution_count": 6,
   "metadata": {},
   "outputs": [],
   "source": [
    "text = generate_lorem_ipsum(1)"
   ]
  },
  {
   "cell_type": "code",
   "execution_count": 7,
   "metadata": {},
   "outputs": [
    {
     "data": {
      "text/plain": [
       "'Lorem ipsum dolor sit amet, consectetur adipisicing elit, sed do eiusmod tempor incididunt ut labore et dolore magna aliqua. Ut enim ad minim veniam, quis nostrud exercitation ullamco laboris nisi ut aliquip ex ea commodo consequat. Duis aute irure dolor in reprehenderit in voluptate velit esse cillum dolore eu fugiat nulla pariatur. Excepteur sint occaecat cupidatat non proident, sunt in culpa qui officia deserunt mollit anim id est laborum.'"
      ]
     },
     "execution_count": 7,
     "metadata": {},
     "output_type": "execute_result"
    }
   ],
   "source": [
    "text"
   ]
  },
  {
   "cell_type": "markdown",
   "metadata": {},
   "source": [
    "## 1. Basic Text Wrapping\n"
   ]
  },
  {
   "cell_type": "code",
   "execution_count": 8,
   "metadata": {},
   "outputs": [
    {
     "data": {
      "text/plain": [
       "['Lorem ipsum dolor sit amet,',\n",
       " 'consectetur adipisicing elit,',\n",
       " 'sed do eiusmod tempor',\n",
       " 'incididunt ut labore et dolore',\n",
       " 'magna aliqua. Ut enim ad minim',\n",
       " 'veniam, quis nostrud',\n",
       " 'exercitation ullamco laboris',\n",
       " 'nisi ut aliquip ex ea commodo',\n",
       " 'consequat. Duis aute irure',\n",
       " 'dolor in reprehenderit in',\n",
       " 'voluptate velit esse cillum',\n",
       " 'dolore eu fugiat nulla',\n",
       " 'pariatur. Excepteur sint',\n",
       " 'occaecat cupidatat non',\n",
       " 'proident, sunt in culpa qui',\n",
       " 'officia deserunt mollit anim',\n",
       " 'id est laborum.']"
      ]
     },
     "execution_count": 8,
     "metadata": {},
     "output_type": "execute_result"
    }
   ],
   "source": [
    "lines = tr.wrap(text, width=30) # wrap text into lines of 30 characters\n",
    "lines"
   ]
  },
  {
   "cell_type": "markdown",
   "metadata": {},
   "source": [
    "## 2. Print-Ready Text Wrapping"
   ]
  },
  {
   "cell_type": "code",
   "execution_count": 9,
   "metadata": {},
   "outputs": [
    {
     "name": "stdout",
     "output_type": "stream",
     "text": [
      "Lorem ipsum dolor sit amet,\n",
      "consectetur adipisicing elit,\n",
      "sed do eiusmod tempor\n",
      "incididunt ut labore et dolore\n",
      "magna aliqua. Ut enim ad minim\n",
      "veniam, quis nostrud\n",
      "exercitation ullamco laboris\n",
      "nisi ut aliquip ex ea commodo\n",
      "consequat. Duis aute irure\n",
      "dolor in reprehenderit in\n",
      "voluptate velit esse cillum\n",
      "dolore eu fugiat nulla\n",
      "pariatur. Excepteur sint\n",
      "occaecat cupidatat non\n",
      "proident, sunt in culpa qui\n",
      "officia deserunt mollit anim\n",
      "id est laborum.\n"
     ]
    }
   ],
   "source": [
    "lines = tr.fill(text, width=30) # fill text into lines of 30 characters\n",
    "print(lines)"
   ]
  },
  {
   "cell_type": "markdown",
   "metadata": {},
   "source": [
    "## 3. Truncate with Text Wrapper"
   ]
  },
  {
   "cell_type": "code",
   "execution_count": 10,
   "metadata": {},
   "outputs": [
    {
     "data": {
      "text/plain": [
       "'Lorem ipsum dolor sit amet, consectetur adipisicing elit, sed do eiusmod tempor incididunt ut labore et dolore magna aliqua. Ut enim ad minim veniam, quis nostrud exercitation ullamco laboris nisi ut aliquip ex ea commodo consequat. Duis aute irure dolor in reprehenderit in voluptate velit esse cillum dolore eu fugiat nulla pariatur. Excepteur sint occaecat cupidatat non proident, sunt in culpa qui officia deserunt mollit anim id est laborum.'"
      ]
     },
     "execution_count": 10,
     "metadata": {},
     "output_type": "execute_result"
    }
   ],
   "source": [
    "text"
   ]
  },
  {
   "cell_type": "code",
   "execution_count": 11,
   "metadata": {},
   "outputs": [
    {
     "data": {
      "text/plain": [
       "'Lorem ipsum dolor sit amet, consectetur adipisicing elit, sed do eiusmod tempor incididunt ut labore et dolore magna aliqua. Ut enim ad minim [...]'"
      ]
     },
     "execution_count": 11,
     "metadata": {},
     "output_type": "execute_result"
    }
   ],
   "source": [
    "tr.shorten(text, width=150) # shorten text to 150 characters"
   ]
  },
  {
   "cell_type": "code",
   "execution_count": 12,
   "metadata": {},
   "outputs": [
    {
     "data": {
      "text/plain": [
       "'Lorem ipsum dolor sit amet, consectetur adipisicing elit, sed do eiusmod tempor incididunt ut labore et dolore magna aliqua. Ut enim ad ...(more)'"
      ]
     },
     "execution_count": 12,
     "metadata": {},
     "output_type": "execute_result"
    }
   ],
   "source": [
    "tr.shorten(text=text, width=150, placeholder=' ...(more)')"
   ]
  },
  {
   "cell_type": "markdown",
   "metadata": {},
   "source": [
    "## 4. Auto-Cleaning string"
   ]
  },
  {
   "cell_type": "code",
   "execution_count": 13,
   "metadata": {},
   "outputs": [
    {
     "data": {
      "text/plain": [
       "'Lorem ipsum dolor sit amet,\\nconsectetur adipisicing elit,\\nsed do eiusmod tempor\\nincididunt ut labore et dolore\\nmagna aliqua. Ut enim ad minim\\nveniam, quis nostrud\\nexercitation ullamco laboris\\nnisi ut aliquip ex ea commodo\\nconsequat. Duis aute irure\\ndolor in reprehenderit in\\nvoluptate velit esse cillum\\ndolore eu fugiat nulla\\npariatur. Excepteur sint\\noccaecat cupidatat non\\nproident, sunt in culpa qui\\nofficia deserunt mollit anim\\nid est laborum.'"
      ]
     },
     "execution_count": 13,
     "metadata": {},
     "output_type": "execute_result"
    },
    {
     "name": "stdout",
     "output_type": "stream",
     "text": [
      "------------------------------\n",
      "Lorem ipsum dolor sit amet,\n",
      "consectetur adipisicing elit,\n",
      "sed do eiusmod tempor\n",
      "incididunt ut labore et dolore\n",
      "magna aliqua. Ut enim ad minim\n",
      "veniam, quis nostrud\n",
      "exercitation ullamco laboris\n",
      "nisi ut aliquip ex ea commodo\n",
      "consequat. Duis aute irure\n",
      "dolor in reprehenderit in\n",
      "voluptate velit esse cillum\n",
      "dolore eu fugiat nulla\n",
      "pariatur. Excepteur sint\n",
      "occaecat cupidatat non\n",
      "proident, sunt in culpa qui\n",
      "officia deserunt mollit anim\n",
      "id est laborum.\n"
     ]
    }
   ],
   "source": [
    "lines = tr.fill(text, width=30) # fill text into lines of 30 characters\n",
    "lines\n",
    "print('-'*30)\n",
    "print(lines)"
   ]
  },
  {
   "cell_type": "code",
   "execution_count": 14,
   "metadata": {},
   "outputs": [
    {
     "data": {
      "text/plain": [
       "'Lorem ipsum dolor sit amet,\\nconsectetur adipisicing elit,\\nsed do eiusmod tempor\\nincididunt ut labore et dolore\\nmagna aliqua. Ut enim ad minim\\nveniam, quis nostrud\\nexercitation ullamco laboris\\nnisi ut aliquip ex ea commodo\\nconsequat. Duis aute irure\\ndolor in reprehenderit in\\nvoluptate velit esse cillum\\ndolore eu fugiat nulla\\npariatur. Excepteur sint\\noccaecat cupidatat non\\nproident, sunt in culpa qui\\nofficia deserunt mollit anim\\nid est laborum.'"
      ]
     },
     "execution_count": 14,
     "metadata": {},
     "output_type": "execute_result"
    }
   ],
   "source": [
    "tr.dedent(lines) # remove indentation from text"
   ]
  },
  {
   "cell_type": "markdown",
   "metadata": {},
   "source": [
    "## 5. Customised Auto-Indentation"
   ]
  },
  {
   "cell_type": "code",
   "execution_count": 15,
   "metadata": {},
   "outputs": [
    {
     "name": "stdout",
     "output_type": "stream",
     "text": [
      "\n",
      "import textwrap as tr\n",
      "print(\"hello world!\")\n",
      "for i in range(10):\n",
      "    print(i)\n",
      "\n"
     ]
    }
   ],
   "source": [
    "some_code = '''\n",
    "import textwrap as tr\n",
    "print(\"hello world!\")\n",
    "for i in range(10):\n",
    "    print(i)\n",
    "'''\n",
    "print(some_code)"
   ]
  },
  {
   "cell_type": "code",
   "execution_count": 16,
   "metadata": {},
   "outputs": [
    {
     "name": "stdout",
     "output_type": "stream",
     "text": [
      "\n",
      "      import textwrap as tr\n",
      "      print(\"hello world!\")\n",
      "      for i in range(10):\n",
      "          print(i)\n",
      "\n"
     ]
    }
   ],
   "source": [
    "code = tr.indent(some_code, '      ') # indent code by given number of spaces\n",
    "print(code)"
   ]
  },
  {
   "cell_type": "code",
   "execution_count": 17,
   "metadata": {},
   "outputs": [
    {
     "name": "stdout",
     "output_type": "stream",
     "text": [
      ">>> \n",
      ">>> import textwrap as tr\n",
      ">>> print(\"hello world!\")\n",
      ">>> for i in range(10):\n",
      ">>>     print(i)\n",
      "\n"
     ]
    }
   ],
   "source": [
    "code = tr.indent(some_code, '>>> ', lambda line: True)\n",
    "print(code)"
   ]
  }
 ],
 "metadata": {
  "interpreter": {
   "hash": "c0f70214c0dd213f07f54ee5d6e0ea644bdbba35113c9bfe8aaa0d1db03ad5dd"
  },
  "kernelspec": {
   "display_name": "Python 3.9.7 ('base')",
   "language": "python",
   "name": "python3"
  },
  "language_info": {
   "codemirror_mode": {
    "name": "ipython",
    "version": 3
   },
   "file_extension": ".py",
   "mimetype": "text/x-python",
   "name": "python",
   "nbconvert_exporter": "python",
   "pygments_lexer": "ipython3",
   "version": "3.9.7"
  },
  "orig_nbformat": 4
 },
 "nbformat": 4,
 "nbformat_minor": 2
}
