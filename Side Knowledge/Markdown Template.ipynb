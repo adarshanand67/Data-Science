{
 "cells": [
  {
   "cell_type": "markdown",
   "metadata": {},
   "source": [
    "# <p style=\"background-color:Green; font-family:newtimeroman; font-size:150%; text-align:center; border-radius: 15px 50px;\"> EA’s FIFA 18-20 game 📊</p>\n",
    "<center><img src=\"https://media.giphy.com/media/J3FbdAktlQTphQvvoa/giphy.gif\"></center>"
   ]
  },
  {
   "cell_type": "markdown",
   "metadata": {},
   "source": [
    "# <p style=\"background-color:purple; font-family:newtimeroman; font-size:180%; text-align:center; border-radius: 15px 50px;\"> Importing Libraries 📚</p>"
   ]
  },
  {
   "cell_type": "markdown",
   "metadata": {},
   "source": [
    "# <p style=\"background-color:purple; font-family:newtimeroman; font-size:180%; text-align:center; border-radius: 15px 50px;\"> Loading Dataset 📅</p>\n"
   ]
  },
  {
   "cell_type": "markdown",
   "metadata": {},
   "source": [
    "# <p style=\"background-color:purple; font-family:newtimeroman; font-size:180%; text-align:center; border-radius: 15px 50px;\"> Understanding the Dataset 🤔</p>\n"
   ]
  },
  {
   "cell_type": "markdown",
   "metadata": {},
   "source": [
    "# <p style=\"background-color:purple; font-family:newtimeroman; font-size:180%; text-align:center; border-radius: 15px 50px;\"> Visualizing the Dataset 📉</p>\n"
   ]
  },
  {
   "cell_type": "markdown",
   "metadata": {},
   "source": [
    "<h2 style =\"background:#333399;border:5;border-radius: 15px 50px;\">Who are the most valuable players ?</h2>"
   ]
  },
  {
   "cell_type": "markdown",
   "metadata": {},
   "source": [
    "# <p style=\"background-color:purple; font-family:newtimeroman; font-size:180%; text-align:center; border-radius: 15px 50px;\">  Profile Report Dashboard</p>\n"
   ]
  },
  {
   "cell_type": "markdown",
   "metadata": {},
   "source": [
    "## <p style=\"background-color:purple; font-family:newtimeroman; font-size:180%; text-align:center; border-radius: 15px 50px;\">  Basic Model 🕹️</p>\n"
   ]
  },
  {
   "cell_type": "markdown",
   "metadata": {},
   "source": [
    "# <p style=\"background-color:purple; font-family:newtimeroman; font-size:180%; text-align:center; border-radius: 15px 50px;\">Machine Learning Model</p>\n"
   ]
  },
  {
   "cell_type": "markdown",
   "metadata": {},
   "source": [
    "\n",
    "<div class=\"alert alert-block alert-info\"> <b>NOTE</b> Use blue boxes for Tips and notes. </div>\n",
    "\n",
    "<div class=\"alert alert-block alert-success\"> Use green boxes sparingly, and only for some specific purpose that the other boxes can't cover. For example, if you have a lot of related content to link to, maybe you decide to use green boxes for related links from each section of a notebook. </div>\n",
    "\n",
    "<div class=\"alert alert-block alert-warning\"> Use yellow boxes for examples that are not inside code cells, or use for mathematical formulas if needed. </div>\n",
    "\n",
    "<div class=\"alert alert-block alert-danger\"> In general, just avoid the red boxes. </div>\n"
   ]
  },
  {
   "cell_type": "markdown",
   "metadata": {},
   "source": []
  }
 ],
 "metadata": {
  "interpreter": {
   "hash": "c0f70214c0dd213f07f54ee5d6e0ea644bdbba35113c9bfe8aaa0d1db03ad5dd"
  },
  "kernelspec": {
   "display_name": "Python 3 (ipykernel)",
   "language": "python",
   "name": "python3"
  },
  "language_info": {
   "codemirror_mode": {
    "name": "ipython",
    "version": 3
   },
   "file_extension": ".py",
   "mimetype": "text/x-python",
   "name": "python",
   "nbconvert_exporter": "python",
   "pygments_lexer": "ipython3",
   "version": "3.9.7"
  }
 },
 "nbformat": 4,
 "nbformat_minor": 2
}
