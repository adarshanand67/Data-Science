{
 "cells": [
  {
   "cell_type": "markdown",
   "metadata": {},
   "source": [
    "<!-- GIF -->\n",
    "<center><img src=\"https://media.giphy.com/media/J3FbdAktlQTphQvvoa/giphy.gif\"></center>"
   ]
  },
  {
   "cell_type": "markdown",
   "metadata": {},
   "source": [
    "# <p style=\"background-color:purple; font-family:newtimeroman; font-size:180%; text-align:center; border-radius: 15px 50px;\"> Importing Libraries 📚</p>"
   ]
  },
  {
   "cell_type": "markdown",
   "metadata": {},
   "source": [
    "# <p style=\"background-color:purple; font-family:newtimeroman; font-size:180%; text-align:center; border-radius: 15px 50px;\"> Loading Dataset 📅</p>\n"
   ]
  },
  {
   "cell_type": "markdown",
   "metadata": {},
   "source": [
    "# <p style=\"background-color:purple; font-family:newtimeroman; font-size:180%; text-align:center; border-radius: 15px 50px;\"> Understanding the Dataset 🤔</p>\n"
   ]
  },
  {
   "cell_type": "markdown",
   "metadata": {},
   "source": [
    "# <p style=\"background-color:purple; font-family:newtimeroman; font-size:180%; text-align:center; border-radius: 15px 50px;\"> Visualizing the Dataset 📉</p>\n"
   ]
  },
  {
   "cell_type": "markdown",
   "metadata": {},
   "source": [
    "<h2 style =\"background:#333399;border:5;border-radius: 15px 50px;\">Who are the most valuable players ?</h2>"
   ]
  },
  {
   "cell_type": "markdown",
   "metadata": {},
   "source": [
    "# <p style=\"background-color:purple; font-family:newtimeroman; font-size:180%; text-align:center; border-radius: 15px 50px;\">  Profile Report Dashboard</p>\n"
   ]
  },
  {
   "cell_type": "markdown",
   "metadata": {},
   "source": [
    "## <p style=\"background-color:purple; font-family:newtimeroman; font-size:180%; text-align:center; border-radius: 15px 50px;\">  Basic Model 🕹️</p>\n"
   ]
  },
  {
   "cell_type": "markdown",
   "metadata": {},
   "source": [
    "# <p style=\"background-color:purple; font-family:newtimeroman; font-size:180%; text-align:center; border-radius: 15px 50px;\">Machine Learning Model</p>\n"
   ]
  },
  {
   "cell_type": "markdown",
   "metadata": {},
   "source": [
    "<!-- This works well -->\n",
    "\n",
    "<div class=\"alert alert-block alert-info\"><b>Tip: </b> Use blue boxes for Tips and notes. If it's a note, you don't have to include the word \"Note\". </div> \n",
    "<div class=\"alert alert-block alert-warning\"><b>Example: </b> Use yellow boxes for examples that are not inside code cells, or use for mathematical formulas if needed. </div>\n",
    "<div class=\"alert alert-block alert-success\"><b>Up to you: </b>Use green boxes sparingly, and only for some specific purpose that the other boxes can't cover. For example, if you have a lot of related content to link to, maybe you decide to use green boxes for related links from each section of a notebook. </div>\n",
    "<div class=\"alert alert-block alert-danger\"><b>Just don't: </b>In general, just avoid the red boxes. </div>"
   ]
  },
  {
   "cell_type": "markdown",
   "metadata": {},
   "source": [
    "<span style='color:red'>Red</span> <span style='color:green'>Green</span><span style='color:blue'> Blue</span>"
   ]
  },
  {
   "cell_type": "markdown",
   "metadata": {},
   "source": [
    "<span style='background :yellow' > Background color is yellow </span>\n"
   ]
  },
  {
   "cell_type": "markdown",
   "metadata": {},
   "source": [
    "\n",
    "*Italic*  or _Italic_ \n",
    "\n",
    "**Bold** or __Bold__\n",
    "\n",
    "***Bold and Italic*** \n",
    "\n",
    "~~Scratch Me~~\n",
    "\n",
    "<u> underlined </u>"
   ]
  },
  {
   "cell_type": "markdown",
   "metadata": {},
   "source": [
    "<span style='font-family:Georgia'> It is Georgia font.\n",
    "    \n",
    "<span style='font-family:Helvetica'> It is Helvetica font.\n",
    "    \n",
    "<span style='font-family:Times New Roman'> <span styel=''>It is Times New Roman font.\n",
    "    \n",
    "<span style='font-family:serif'> It is serif font.\n",
    "    \n",
    "<span style='font-family:sans-serif'> It is sans-serif font."
   ]
  },
  {
   "cell_type": "markdown",
   "metadata": {},
   "source": [
    "Code formatting:\n",
    "```Python\n",
    "import pandas as pd\n",
    "import numpy as np\n",
    "import matplotlib.pyplot as plt\n",
    "```"
   ]
  },
  {
   "cell_type": "markdown",
   "metadata": {},
   "source": [
    "|Algorithm          | Jaccard | F1-score | LogLoss |\n",
    "|:------------------|:--------|:---------|:--------|\n",
    "| KNN               | ?       | ?        | NA      |\n",
    "| Decision Tree     | ?       | ?        | NA      |\n",
    "| SVM               | ?       | ?        | NA      |\n",
    "| LogisticRegression| ?       | ?        | ?       |"
   ]
  },
  {
   "cell_type": "markdown",
   "metadata": {},
   "source": [
    "<!-- Quotations -->\n",
    ">\"Opportunity often comes disguised in the form of misfortune, or temporary defeat.\" – Napoleon Hill\n"
   ]
  },
  {
   "cell_type": "markdown",
   "metadata": {},
   "source": [
    "> some text\n",
    ">> and then some more text\n",
    ">>> and then some more"
   ]
  },
  {
   "cell_type": "markdown",
   "metadata": {},
   "source": [
    "---\n"
   ]
  },
  {
   "cell_type": "markdown",
   "metadata": {},
   "source": [
    "$e^{i\\pi} + 1 = 0$\n"
   ]
  }
 ],
 "metadata": {
  "interpreter": {
   "hash": "c0f70214c0dd213f07f54ee5d6e0ea644bdbba35113c9bfe8aaa0d1db03ad5dd"
  },
  "kernelspec": {
   "display_name": "Python 3 (ipykernel)",
   "language": "python",
   "name": "python3"
  },
  "language_info": {
   "codemirror_mode": {
    "name": "ipython",
    "version": 3
   },
   "file_extension": ".py",
   "mimetype": "text/x-python",
   "name": "python",
   "nbconvert_exporter": "python",
   "pygments_lexer": "ipython3",
   "version": "3.9.7"
  }
 },
 "nbformat": 4,
 "nbformat_minor": 2
}
