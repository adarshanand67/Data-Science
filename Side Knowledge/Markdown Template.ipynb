{
 "cells": [
  {
   "cell_type": "markdown",
   "metadata": {},
   "source": [
    "# <p style=\"background-color:Black; font-family:newtimeroman; font-size:150%; text-align:center; border-radius: 15px 50px;\"> EA’s FIFA 18-20 game 📊</p>\n",
    "<center><img src=\"https://media.giphy.com/media/J3FbdAktlQTphQvvoa/giphy.gif\"></center>"
   ]
  },
  {
   "cell_type": "markdown",
   "metadata": {},
   "source": [
    "# <p style=\"background-color:purple; font-family:newtimeroman; font-size:180%; text-align:center; border-radius: 15px 50px;\"> Importing Libraries 📚</p>"
   ]
  },
  {
   "cell_type": "markdown",
   "metadata": {},
   "source": [
    "# <p style=\"background-color:purple; font-family:newtimeroman; font-size:180%; text-align:center; border-radius: 15px 50px;\"> Importing Dataset 📅</p>\n"
   ]
  },
  {
   "cell_type": "markdown",
   "metadata": {},
   "source": [
    "# <p style=\"background-color:purple; font-family:newtimeroman; font-size:180%; text-align:center; border-radius: 15px 50px;\"> Understanding the Dataset 🤔</p>\n"
   ]
  },
  {
   "cell_type": "markdown",
   "metadata": {},
   "source": [
    "# <p style=\"background-color:purple; font-family:newtimeroman; font-size:180%; text-align:center; border-radius: 15px 50px;\"> Visualizing the Dataset 📉</p>\n"
   ]
  },
  {
   "cell_type": "markdown",
   "metadata": {},
   "source": [
    "<h2 style =\"background:#333399;border:5;border-radius: 15px 50px;\">Who are the most valuable players ?</h2>"
   ]
  },
  {
   "cell_type": "markdown",
   "metadata": {},
   "source": [
    "# <p style=\"background-color:purple; font-family:newtimeroman; font-size:180%; text-align:center; border-radius: 15px 50px;\">  Profile Report Dashboard</p>\n"
   ]
  },
  {
   "cell_type": "markdown",
   "metadata": {},
   "source": [
    "# <p style=\"background-color:purple; font-family:newtimeroman; font-size:180%; text-align:center; border-radius: 15px 50px;\">  Basic Model 🕹️</p>\n"
   ]
  },
  {
   "cell_type": "markdown",
   "metadata": {},
   "source": [
    "# <p style=\"background-color:purple; font-family:newtimeroman; font-size:180%; text-align:center; border-radius: 15px 50px;\">Machine Learning Model</p>\n"
   ]
  }
 ],
 "metadata": {
  "interpreter": {
   "hash": "c0f70214c0dd213f07f54ee5d6e0ea644bdbba35113c9bfe8aaa0d1db03ad5dd"
  },
  "kernelspec": {
   "display_name": "Python 3.9.7 64-bit ('base': conda)",
   "language": "python",
   "name": "python3"
  },
  "language_info": {
   "name": "python",
   "version": "3.9.7"
  },
  "orig_nbformat": 4
 },
 "nbformat": 4,
 "nbformat_minor": 2
}
