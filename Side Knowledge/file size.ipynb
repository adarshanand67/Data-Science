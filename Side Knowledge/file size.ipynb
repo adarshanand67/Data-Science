{
 "cells": [
  {
   "cell_type": "code",
   "execution_count": 1,
   "metadata": {},
   "outputs": [],
   "source": [
    "from sklearn.preprocessing import StandardScaler, LabelEncoder, OneHotEncoder, MinMaxScaler\n",
    "from sklearn.model_selection import (GridSearchCV, StratifiedKFold,train_test_split)\n",
    "from sklearn.metrics import (accuracy_score, classification_report,\n",
    "confusion_matrix, mean_absolute_error,roc_auc_score)\n",
    "from sklearn.ensemble import (AdaBoostClassifier, RandomForestClassifier,RandomForestRegressor)\n",
    "import re,random,sys,json,time,os,warnings,pickle,datetime,subprocess,requests,math\n",
    "import pyforest,klib,missingno as msno\n",
    "import numpy as np, pandas as pd\n",
    "from pandas_profiling import ProfileReport\n",
    "import matplotlib.pyplot as plt, seaborn as sns\n",
    "%matplotlib inline\n",
    "#import keras as kr,tensoflow as tf,cv2 as cv\n",
    "\n",
    "warnings.filterwarnings('ignore')\n",
    "%config InlineBackend.figure_format = 'retina'\n",
    "pd.set_option('display.max_columns', None)\n",
    "pd.set_option('display.float_format', lambda x: '%.2f' % x)\n",
    "sns.set(style='whitegrid', color_codes=True, font_scale=1.5,\n",
    "        palette='hls', font='Arial', rc={'figure.figsize': (10, 8)})"
   ]
  },
  {
   "cell_type": "code",
   "execution_count": 2,
   "metadata": {},
   "outputs": [
    {
     "name": "stdout",
     "output_type": "stream",
     "text": [
      "The size of the file is 2091239 bytes\n"
     ]
    }
   ],
   "source": [
    "filename = '../data/melb_data.csv'\n",
    "print(f\"The size of the file is {os.path.getsize(filename)} bytes\")"
   ]
  },
  {
   "cell_type": "code",
   "execution_count": 5,
   "metadata": {},
   "outputs": [
    {
     "name": "stdout",
     "output_type": "stream",
     "text": [
      "The size of the file in MB is 1 MB\n"
     ]
    }
   ],
   "source": [
    "print(f\"The size of the file in MB is {os.path.getsize(filename)>>20} MB\")"
   ]
  }
 ],
 "metadata": {
  "interpreter": {
   "hash": "c0f70214c0dd213f07f54ee5d6e0ea644bdbba35113c9bfe8aaa0d1db03ad5dd"
  },
  "kernelspec": {
   "display_name": "Python 3.9.7 ('base')",
   "language": "python",
   "name": "python3"
  },
  "language_info": {
   "codemirror_mode": {
    "name": "ipython",
    "version": 3
   },
   "file_extension": ".py",
   "mimetype": "text/x-python",
   "name": "python",
   "nbconvert_exporter": "python",
   "pygments_lexer": "ipython3",
   "version": "3.9.7"
  },
  "orig_nbformat": 4
 },
 "nbformat": 4,
 "nbformat_minor": 2
}
