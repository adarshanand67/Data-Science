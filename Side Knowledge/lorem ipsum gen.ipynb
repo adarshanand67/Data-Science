{
 "cells": [
  {
   "cell_type": "markdown",
   "metadata": {},
   "source": [
    "## Lorem ipusm"
   ]
  },
  {
   "cell_type": "code",
   "execution_count": 22,
   "metadata": {},
   "outputs": [],
   "source": [
    "\n",
    "from lorem_text import lorem \n",
    "\n",
    "def generate_lorem_ipsum(paragraph_length):\n",
    "    ''' Generate a paragraph of lorem text '''\n",
    "    \n",
    "    text = lorem.paragraphs(paragraph_length)  # Generate lorem text\n",
    "    # text = lorem.words(word_length)  # Generate lorem words\n",
    "    return text"
   ]
  },
  {
   "cell_type": "code",
   "execution_count": 23,
   "metadata": {},
   "outputs": [],
   "source": [
    "text = generate_lorem_ipsum(1)"
   ]
  },
  {
   "cell_type": "code",
   "execution_count": 24,
   "metadata": {},
   "outputs": [
    {
     "data": {
      "text/plain": [
       "'Lorem ipsum dolor sit amet, consectetur adipisicing elit, sed do eiusmod tempor incididunt ut labore et dolore magna aliqua. Ut enim ad minim veniam, quis nostrud exercitation ullamco laboris nisi ut aliquip ex ea commodo consequat. Duis aute irure dolor in reprehenderit in voluptate velit esse cillum dolore eu fugiat nulla pariatur. Excepteur sint occaecat cupidatat non proident, sunt in culpa qui officia deserunt mollit anim id est laborum.'"
      ]
     },
     "execution_count": 24,
     "metadata": {},
     "output_type": "execute_result"
    }
   ],
   "source": [
    "text"
   ]
  },
  {
   "cell_type": "code",
   "execution_count": 25,
   "metadata": {},
   "outputs": [
    {
     "data": {
      "text/plain": [
       "'Lorem ipsum dolor sit amet, consectetur adipisicing elit, sed do eiusmod tempor incididunt ut labore et dolore magna aliqua. Ut enim ad minim veniam, quis nostrud exercitation ullamco laboris nisi ut aliquip ex ea commodo consequat. Duis aute irure dolor in reprehenderit in voluptate velit esse cillum dolore eu fugiat nulla pariatur. Excepteur sint occaecat cupidatat non proident, sunt in culpa qui officia deserunt mollit anim id est laborum.\\nQuam tenetur fugit minima ea architecto soluta magni dolore dolorum placeat, asperiores magni ipsum, quasi sequi nulla a? Repudiandae doloribus rerum repellat iusto laborum aliquid numquam nemo atque non, pariatur quas enim maxime ipsum deleniti officiis autem necessitatibus a itaque, voluptas dolorem harum beatae esse nulla a tempore voluptatum maxime? Et beatae fuga suscipit quae laudantium recusandae corrupti non, voluptate blanditiis voluptates accusamus quasi cum aliquam veniam hic. Magnam architecto est, velit ratione maxime earum non corporis iste amet ullam nobis, reiciendis debitis officiis itaque.'"
      ]
     },
     "execution_count": 25,
     "metadata": {},
     "output_type": "execute_result"
    }
   ],
   "source": [
    "text = generate_lorem_ipsum(2)\n",
    "text"
   ]
  },
  {
   "cell_type": "code",
   "execution_count": 27,
   "metadata": {},
   "outputs": [
    {
     "data": {
      "text/plain": [
       "'Lorem ipsum dolor sit amet, consectetur adipisicing elit, sed do eiusmod tempor incididunt ut labore et dolore magna aliqua. Ut enim ad minim veniam, quis nostrud exercitation ullamco laboris nisi ut aliquip ex ea commodo consequat. Duis aute irure dolor in reprehenderit in voluptate velit esse cillum dolore eu fugiat nulla pariatur. Excepteur sint occaecat cupidatat non proident, sunt in culpa qui officia deserunt mollit anim id est laborum.'"
      ]
     },
     "execution_count": 27,
     "metadata": {},
     "output_type": "execute_result"
    }
   ],
   "source": [
    "lorem.COMMON_P"
   ]
  },
  {
   "cell_type": "code",
   "execution_count": 28,
   "metadata": {},
   "outputs": [
    {
     "data": {
      "text/plain": [
       "('lorem',\n",
       " 'ipsum',\n",
       " 'dolor',\n",
       " 'sit',\n",
       " 'amet',\n",
       " 'consectetur',\n",
       " 'adipisicing',\n",
       " 'elit',\n",
       " 'sed',\n",
       " 'do',\n",
       " 'eiusmod',\n",
       " 'tempor',\n",
       " 'incididunt',\n",
       " 'ut',\n",
       " 'labore',\n",
       " 'et',\n",
       " 'dolore',\n",
       " 'magna',\n",
       " 'aliqua')"
      ]
     },
     "execution_count": 28,
     "metadata": {},
     "output_type": "execute_result"
    }
   ],
   "source": [
    "lorem.COMMON_WORDS"
   ]
  },
  {
   "cell_type": "code",
   "execution_count": 33,
   "metadata": {},
   "outputs": [
    {
     "data": {
      "text/plain": [
       "('exercitationem',\n",
       " 'perferendis',\n",
       " 'perspiciatis',\n",
       " 'laborum',\n",
       " 'eveniet',\n",
       " 'sunt',\n",
       " 'iure',\n",
       " 'nam',\n",
       " 'nobis',\n",
       " 'eum',\n",
       " 'cum',\n",
       " 'officiis',\n",
       " 'excepturi',\n",
       " 'odio',\n",
       " 'consectetur',\n",
       " 'quasi',\n",
       " 'aut',\n",
       " 'quisquam',\n",
       " 'vel',\n",
       " 'eligendi',\n",
       " 'itaque',\n",
       " 'non',\n",
       " 'odit',\n",
       " 'tempore',\n",
       " 'quaerat',\n",
       " 'dignissimos',\n",
       " 'facilis',\n",
       " 'neque',\n",
       " 'nihil',\n",
       " 'expedita',\n",
       " 'vitae',\n",
       " 'vero',\n",
       " 'ipsum',\n",
       " 'nisi',\n",
       " 'animi',\n",
       " 'cumque',\n",
       " 'pariatur',\n",
       " 'velit',\n",
       " 'modi',\n",
       " 'natus',\n",
       " 'iusto',\n",
       " 'eaque',\n",
       " 'sequi',\n",
       " 'illo',\n",
       " 'sed',\n",
       " 'ex',\n",
       " 'et',\n",
       " 'voluptatibus',\n",
       " 'tempora',\n",
       " 'veritatis',\n",
       " 'ratione',\n",
       " 'assumenda',\n",
       " 'incidunt',\n",
       " 'nostrum',\n",
       " 'placeat',\n",
       " 'aliquid',\n",
       " 'fuga',\n",
       " 'provident',\n",
       " 'praesentium',\n",
       " 'rem',\n",
       " 'necessitatibus',\n",
       " 'suscipit',\n",
       " 'adipisci',\n",
       " 'quidem',\n",
       " 'possimus',\n",
       " 'voluptas',\n",
       " 'debitis',\n",
       " 'sint',\n",
       " 'accusantium',\n",
       " 'unde',\n",
       " 'sapiente',\n",
       " 'voluptate',\n",
       " 'qui',\n",
       " 'aspernatur',\n",
       " 'laudantium',\n",
       " 'soluta',\n",
       " 'amet',\n",
       " 'quo',\n",
       " 'aliquam',\n",
       " 'saepe',\n",
       " 'culpa',\n",
       " 'libero',\n",
       " 'ipsa',\n",
       " 'dicta',\n",
       " 'reiciendis',\n",
       " 'nesciunt',\n",
       " 'doloribus',\n",
       " 'autem',\n",
       " 'impedit',\n",
       " 'minima',\n",
       " 'maiores',\n",
       " 'repudiandae',\n",
       " 'ipsam',\n",
       " 'obcaecati',\n",
       " 'ullam',\n",
       " 'enim',\n",
       " 'totam',\n",
       " 'delectus',\n",
       " 'ducimus',\n",
       " 'quis',\n",
       " 'voluptates',\n",
       " 'dolores',\n",
       " 'molestiae',\n",
       " 'harum',\n",
       " 'dolorem',\n",
       " 'quia',\n",
       " 'voluptatem',\n",
       " 'molestias',\n",
       " 'magni',\n",
       " 'distinctio',\n",
       " 'omnis',\n",
       " 'illum',\n",
       " 'dolorum',\n",
       " 'voluptatum',\n",
       " 'ea',\n",
       " 'quas',\n",
       " 'quam',\n",
       " 'corporis',\n",
       " 'quae',\n",
       " 'blanditiis',\n",
       " 'atque',\n",
       " 'deserunt',\n",
       " 'laboriosam',\n",
       " 'earum',\n",
       " 'consequuntur',\n",
       " 'hic',\n",
       " 'cupiditate',\n",
       " 'quibusdam',\n",
       " 'accusamus',\n",
       " 'ut',\n",
       " 'rerum',\n",
       " 'error',\n",
       " 'minus',\n",
       " 'eius',\n",
       " 'ab',\n",
       " 'ad',\n",
       " 'nemo',\n",
       " 'fugit',\n",
       " 'officia',\n",
       " 'at',\n",
       " 'in',\n",
       " 'id',\n",
       " 'quos',\n",
       " 'reprehenderit',\n",
       " 'numquam',\n",
       " 'iste',\n",
       " 'fugiat',\n",
       " 'sit',\n",
       " 'inventore',\n",
       " 'beatae',\n",
       " 'repellendus',\n",
       " 'magnam',\n",
       " 'recusandae',\n",
       " 'quod',\n",
       " 'explicabo',\n",
       " 'doloremque',\n",
       " 'aperiam',\n",
       " 'consequatur',\n",
       " 'asperiores',\n",
       " 'commodi',\n",
       " 'optio',\n",
       " 'dolor',\n",
       " 'labore',\n",
       " 'temporibus',\n",
       " 'repellat',\n",
       " 'veniam',\n",
       " 'architecto',\n",
       " 'est',\n",
       " 'esse',\n",
       " 'mollitia',\n",
       " 'nulla',\n",
       " 'a',\n",
       " 'similique',\n",
       " 'eos',\n",
       " 'alias',\n",
       " 'dolore',\n",
       " 'tenetur',\n",
       " 'deleniti',\n",
       " 'porro',\n",
       " 'facere',\n",
       " 'maxime',\n",
       " 'corrupti')"
      ]
     },
     "execution_count": 33,
     "metadata": {},
     "output_type": "execute_result"
    }
   ],
   "source": [
    "lorem.WORDS"
   ]
  },
  {
   "cell_type": "code",
   "execution_count": null,
   "metadata": {},
   "outputs": [],
   "source": []
  }
 ],
 "metadata": {
  "interpreter": {
   "hash": "c0f70214c0dd213f07f54ee5d6e0ea644bdbba35113c9bfe8aaa0d1db03ad5dd"
  },
  "kernelspec": {
   "display_name": "Python 3.9.7 ('base')",
   "language": "python",
   "name": "python3"
  },
  "language_info": {
   "codemirror_mode": {
    "name": "ipython",
    "version": 3
   },
   "file_extension": ".py",
   "mimetype": "text/x-python",
   "name": "python",
   "nbconvert_exporter": "python",
   "pygments_lexer": "ipython3",
   "version": "3.9.7"
  },
  "orig_nbformat": 4
 },
 "nbformat": 4,
 "nbformat_minor": 2
}
