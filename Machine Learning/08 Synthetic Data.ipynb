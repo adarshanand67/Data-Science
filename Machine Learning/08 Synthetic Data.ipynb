{
 "cells": [
  {
   "cell_type": "code",
   "execution_count": 1,
   "metadata": {},
   "outputs": [],
   "source": [
    "#import modin.pandas as pd\n",
    "from pandas_profiling import ProfileReport\n",
    "from xgboost import XGBClassifier\n",
    "from sklearn.preprocessing import StandardScaler, LabelEncoder, OneHotEncoder, MinMaxScaler\n",
    "from sklearn.model_selection import (GridSearchCV, StratifiedKFold,\n",
    "                                     train_test_split)\n",
    "from sklearn.metrics import (accuracy_score, classification_report,\n",
    "                             confusion_matrix, mean_absolute_error,\n",
    "                             roc_auc_score)\n",
    "from sklearn.impute import SimpleImputer\n",
    "from sklearn.ensemble import (AdaBoostClassifier, RandomForestClassifier,\n",
    "                              RandomForestRegressor)\n",
    "import xgboost as xgb\n",
    "import scipy.stats as stats\n",
    "import requests\n",
    "import pyforest\n",
    "import klib\n",
    "import cv2 as cv\n",
    "import bs4 as bs\n",
    "import warnings\n",
    "import time\n",
    "import re\n",
    "import random\n",
    "import os\n",
    "import math\n",
    "import datetime\n",
    "import seaborn as sns\n",
    "import missingno as msno\n",
    "import matplotlib.pyplot as plt\n",
    "import numpy as np\n",
    "import pandas as pd\n",
    "\n",
    "%matplotlib inline\n",
    "# from autoviz.AutoViz_Class import AutoViz_Class\n",
    "\n",
    "%config InlineBackend.figure_format = 'retina'\n",
    "\n",
    "#import keras as ks\n",
    "# import tensorflow as tf\n",
    "\n",
    "warnings.filterwarnings('ignore')\n",
    "\n",
    "pd.set_option('display.max_columns', None)\n",
    "pd.set_option('display.float_format', lambda x: '%.2f' % x)\n",
    "sns.set(style='whitegrid', color_codes=True, font_scale=1.5,\n",
    "        palette='hls', font='Arial', rc={'figure.figsize': (8, 6)})\n"
   ]
  },
  {
   "cell_type": "code",
   "execution_count": null,
   "metadata": {},
   "outputs": [],
   "source": [
    "from sklearn import make_classification\n"
   ]
  }
 ],
 "metadata": {
  "interpreter": {
   "hash": "c0f70214c0dd213f07f54ee5d6e0ea644bdbba35113c9bfe8aaa0d1db03ad5dd"
  },
  "kernelspec": {
   "display_name": "Python 3.9.7 64-bit ('base': conda)",
   "language": "python",
   "name": "python3"
  },
  "language_info": {
   "codemirror_mode": {
    "name": "ipython",
    "version": 3
   },
   "file_extension": ".py",
   "mimetype": "text/x-python",
   "name": "python",
   "nbconvert_exporter": "python",
   "pygments_lexer": "ipython3",
   "version": "3.9.7"
  },
  "orig_nbformat": 4
 },
 "nbformat": 4,
 "nbformat_minor": 2
}
